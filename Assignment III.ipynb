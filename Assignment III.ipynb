{
 "cells": [
  {
   "cell_type": "markdown",
   "metadata": {},
   "source": [
    "# Methods:Numerical Simulations Assignment 3"
   ]
  },
  {
   "cell_type": "markdown",
   "metadata": {},
   "source": [
    "#### Renée de Froe                    553070\n",
    "#### Teun Hoppenbrouwers      751611\n",
    "\n",
    "In this assignment we will replicate the paper by Acemoglu, Johnson and Robinson: [The Colonial Origins of Comparative Development:An Emperical Investigation](http://www.nber.org/papers/w7771). The only purpose of this assignment is to display our capabilities in using the ipython notebook. "
   ]
  },
  {
   "cell_type": "markdown",
   "metadata": {},
   "source": [
    "## Question\n",
    "What is the effect of beter institutions on the level of GDP per capita in a country?"
   ]
  },
  {
   "cell_type": "markdown",
   "metadata": {},
   "source": [
    "## Introduction\n",
    "The question what causes the large per capita income differences between countries is one that has been studied for decades already. One of the possible explanations is better institutions. For example better protection of property rights in a country. It is however not easy to test the effect as there are allot of factors that determine the quality of institutions. While institutions affect the economy it can also be the case that the economy affects institutions, therefore a special econometric approach should be taken.\n",
    "\n",
    "We will first outline our Methodology, followed by a description of the data and our results. We will finish by examining the results and in the conclusion we will try to answer our research question."
   ]
  },
  {
   "cell_type": "markdown",
   "metadata": {},
   "source": [
    "## Methodology\n",
    "We will be using the data of Acemoglu, Johnson and Robinson to replicate their econometric model right here in python. We will also recreate relevant graphs.\n",
    "\n",
    "It is not possible to simply regress quality of institutions on GDP per capita as it is possible that having more wealth in an economy improves the institutions. We are therefore dealing with a reverse causality problem. We will solve this by instrumenting institutions with colonial settler mortality rates.\n",
    "\n",
    "For this to be a good instrument it needs to have an significant effect on institutions while having no other influence on other variables that can influence GDP per capita. \n",
    "\n",
    "(potential) settler mortality $\\rightarrow$ settlements $\\rightarrow$ early institutions $\\rightarrow$ current institutions $\\rightarrow$ current performance.\n",
    "\n",
    "This is the link of variables between settler mortality and eventually institutions and GDP per capita. \n",
    "\n",
    "The regular OLS would look as follows:\n",
    "\n",
    "$$\n",
    "\\begin{equation}\n",
    "    log  (y_{i})=\\mu+\\alpha*R_{i}+X^{'}_{i}\\Upsilon+\\epsilon_{i}   \n",
    "\\end{equation}\n",
    "$$\n",
    "where  $log (y_{i})$ is the log of GDP per capita, $\\mu$ is the constant, $R_{i}$ is quality of institutions measured as protection against expropriation, $X^{'}_{i}$ is a vector of other covariates and $\\epsilon$ is the error term. $\\alpha$ is the value we are interested in, as this is the effect institutions have on GDP. However if we were to run this simple regression we would run into the reverse causality problem previously mentioned.\n",
    "\n",
    "Instead we will extend the model with the following equations.\n",
    "\n",
    "$$\n",
    "\\begin{equation}\n",
    "    R_{i}=\\lambda_{R}+\\beta_{R}*C_{i}+X^{'}_{i}\\Upsilon_{R}+\\nu_{Ri}\n",
    "\\end{equation}\n",
    "$$\n",
    "$$\n",
    "\\begin{equation}\n",
    "    C_{i}=\\lambda_{C}+\\beta_{C}*S_{i}+X^{'}_{i}\\Upsilon_{C}+\\nu_{Ci}\n",
    "\\end{equation}\n",
    "$$\n",
    "$$\n",
    "\\begin{equation}\n",
    "    S_{i}=\\lambda_{S}+\\beta_{S}*log (M_{i})+X^{'}_{i}\\Upsilon_{S}+\\nu_{Si}\n",
    "\\end{equation}\n",
    "$$\n",
    "Where R is still the measure of institutions (protection against expropriation). C Is the measure for Early institutions. S is the measure of European settlement in the colony. M is the mortality rates faced by settlers. X is a vector of covariates that affect all varriables. In our model we will use log $M_{i}$ as an instrument for $R_{i}$. "
   ]
  },
  {
   "cell_type": "markdown",
   "metadata": {},
   "source": [
    "## Data & Descriptive Statistics"
   ]
  },
  {
   "cell_type": "markdown",
   "metadata": {},
   "source": [
    "We focus on the main results estimated with an instrumental variable framework and shall use only a part of the data in the dataset presented. The dataset itself is a subset of all the variables used in the published work but all missing, and variables on which we do not further elaborate upon, are mainly used to verify the robustness of the main results."
   ]
  },
  {
   "cell_type": "code",
   "execution_count": 2,
   "metadata": {
    "collapsed": false
   },
   "outputs": [
    {
     "name": "stdout",
     "output_type": "stream",
     "text": [
      "IPyStata is loaded in batch mode.\n"
     ]
    },
    {
     "data": {
      "application/javascript": [
       "IPython.CodeCell.config_defaults.highlight_modes['magic_stata'] = {'reg':[/^%%stata/]};"
      ]
     },
     "metadata": {},
     "output_type": "display_data"
    }
   ],
   "source": [
    "import ipystata"
   ]
  },
  {
   "cell_type": "code",
   "execution_count": 2,
   "metadata": {
    "collapsed": true
   },
   "outputs": [],
   "source": [
    "import pandas"
   ]
  },
  {
   "cell_type": "code",
   "execution_count": 3,
   "metadata": {
    "collapsed": false,
    "scrolled": false
   },
   "outputs": [
    {
     "name": "stdout",
     "output_type": "stream",
     "text": [
      "\n",
      "\n"
     ]
    }
   ],
   "source": [
    "%%stata -o Data_df\n",
    "sysuse data.dta"
   ]
  },
  {
   "cell_type": "markdown",
   "metadata": {},
   "source": [
    "#### Logarithm of 1995 GDP per capita (logpgp95)\n",
    "GDP per capita is used as a measure of a nations' welfare and the main dependent variable. The use of 20 year old data might seem odd until we remind ourselves that the work was published in 2001 and therefore was the most recent reliable data available at the time of writing. The data itself is provided by the World Bank.\n",
    "#### Average Expropriation Protection (avexpr)\n",
    "Since the interpretation of institutional quality is focused on property rights and checks against government power, we use the protection against \"risk of expropriation\" index from [Political Risk Services](https://edc.library.emory.edu/content/PRS-Data) as a proxy for institutions. This variable measures differences in institutions originating from different types of states and state policies. The average is over the period 1985 up to and including 1995.\n",
    "#### Logarithm of European settler mortality (logem4)\n",
    "European settler mortality rates (which easily date back to more than a century ago) function as the main instrument to counter the endogenous concerns of institutions on a nations' income in an OLS setup.  \n",
    "\n",
    "[Acemoglu et al (2001)](http://www.nber.org/papers/w7771) on the quality of settler mortality as an instrument; The exclusion restriction implied by our instrumental variable regression is that, conditional on the controls included in the regression, the mortality rates of European settlers more than 100 years ago have no effect on GDP per capita today, other than their effect through institutional development. The major concern with this exclusion restriction is that the mortality rates of settlers could be correlated with the current disease environment, which may have a direct effect on economic performance. In this case, our instrumental-variables estimates may be assigning the effect of diseases on income to institutions. We believe that this is unlikely to be the case and that our exclusion restriction is plausible. The great majority of European deaths in the colonies were caused by malaria and yellow fever. Although these diseases were fatal to Europeans who had no immunity, they had limited effect on indigenous adults who had developed various types of immunities. These diseases are therefore unlikely to be the reason why many countries in Africa and Asia are very poor today. (It was only in the late nineteenth century that Europeans started to control these diseases)\n",
    "The data on the mortality of European settlers come largely from the work of [Philip Curtin](https://nl.wikipedia.org/wiki/Philip_D._Curtin). Systematic military medical record\n",
    "keeping began only after 1815, as an attempt to understand why so many soldiers were dying in some places. The first detailed studies were retrospective and dealt with British forces between 1817 and 1836. The United States and French governments quickly\n",
    "adopted similar methods [(Curtin, 1989 pp. 3,5)](https://books.google.nl/books?hl=nl&lr=&id=bTrn0gioRYMC&oi=fnd&pg=PR7&dq=Philip+Curtin&ots=5Ol4xmeaKG&sig=BodX0ouUhfe4Bd05AflU6ffxDbQ#v=onepage&q=Philip%20Curtin&f=false). Some early data are also available for the Dutch East Indies. By the 1870's, most European countries published regular reports on the health of their soldiers. The standard measure is annualized deaths\n",
    "per thousand mean strength. This measure reports the death rate among 1,000 soldiers where each death is replaced with a new soldier. Curtin ([1989](https://books.google.nl/books?hl=nl&lr=&id=bTrn0gioRYMC&oi=fnd&pg=PR7&dq=Philip+Curtin&ots=5Ol4xmeaKG&sig=BodX0ouUhfe4Bd05AflU6ffxDbQ#v=onepage&q=Philip%20Curtin&f=false), [1998](https://books.google.nl/books?hl=nl&lr=&id=D951EN8vk4EC&oi=fnd&pg=PR9&dq=Philip+Curtin&ots=BKKNbhHbSJ&sig=-oMSVKETrOEQxIhslGdzzOyvcK4#v=onepage&q=Philip%20Curtin&f=false)) reviews in detail the construction of these estimates for particular places and campaigns, and assesses which data should be considered reliable.\n",
    "#### Absolute Latitude (lat_abst)\n",
    "Absolute Latitude is used as a secondary instrument for institutional quality and effectively functions as a control for the use of settler mortality that flows forth from the work of [Hall and Jones (1999)](http://qje.oxfordjournals.org/content/114/1/83.abstract). \n",
    "In the words of [Acemoglu et al (2001)](http://www.nber.org/papers/w7771); [Hall and Jones (1999)](http://qje.oxfordjournals.org/content/114/1/83.abstract), use distance from the equator as an instrument for social infrastructure because, they argue, latitude is correlated with \"Western influence,\" which leads to good institutions. The theoretical reasoning for these instruments is not entirely convincing. It is not easy to argue that the Belgian influence in the Congo, or Western influence in the Gold Coast during the era of slavery promoted good institutions. Interestingly, our results do show that distance from the equator does not have an independent effect on economic performance, validating the use of this variable as an instrument in the work by [Hall and Jones(1999)](http://qje.oxfordjournals.org/content/114/1/83.abstract).\n"
   ]
  },
  {
   "cell_type": "code",
   "execution_count": 6,
   "metadata": {
    "collapsed": false
   },
   "outputs": [
    {
     "data": {
      "text/html": [
       "<div>\n",
       "<table border=\"1\" class=\"dataframe\">\n",
       "  <thead>\n",
       "    <tr style=\"text-align: right;\">\n",
       "      <th></th>\n",
       "      <th>lat_abst</th>\n",
       "      <th>euro1900</th>\n",
       "      <th>excolony</th>\n",
       "      <th>avexpr</th>\n",
       "      <th>logpgp95</th>\n",
       "      <th>cons1</th>\n",
       "      <th>indtime</th>\n",
       "      <th>democ00a</th>\n",
       "      <th>cons00a</th>\n",
       "      <th>extmort4</th>\n",
       "      <th>logem4</th>\n",
       "      <th>country</th>\n",
       "    </tr>\n",
       "  </thead>\n",
       "  <tbody>\n",
       "    <tr>\n",
       "      <th>0</th>\n",
       "      <td>0.136667</td>\n",
       "      <td>8.000000</td>\n",
       "      <td>1</td>\n",
       "      <td>5.363636</td>\n",
       "      <td>7.770645</td>\n",
       "      <td>3</td>\n",
       "      <td>20</td>\n",
       "      <td>0</td>\n",
       "      <td>1</td>\n",
       "      <td>280.000000</td>\n",
       "      <td>5.634789</td>\n",
       "      <td>125</td>\n",
       "    </tr>\n",
       "    <tr>\n",
       "      <th>1</th>\n",
       "      <td>0.377778</td>\n",
       "      <td>60.000004</td>\n",
       "      <td>1</td>\n",
       "      <td>6.386364</td>\n",
       "      <td>9.133459</td>\n",
       "      <td>1</td>\n",
       "      <td>170</td>\n",
       "      <td>3</td>\n",
       "      <td>3</td>\n",
       "      <td>68.900002</td>\n",
       "      <td>4.232656</td>\n",
       "      <td>131</td>\n",
       "    </tr>\n",
       "    <tr>\n",
       "      <th>2</th>\n",
       "      <td>0.300000</td>\n",
       "      <td>98.000000</td>\n",
       "      <td>1</td>\n",
       "      <td>9.318182</td>\n",
       "      <td>9.897972</td>\n",
       "      <td>7</td>\n",
       "      <td>94</td>\n",
       "      <td>10</td>\n",
       "      <td>7</td>\n",
       "      <td>8.550000</td>\n",
       "      <td>2.145931</td>\n",
       "      <td>135</td>\n",
       "    </tr>\n",
       "  </tbody>\n",
       "</table>\n",
       "</div>"
      ],
      "text/plain": [
       "   lat_abst   euro1900  excolony    avexpr  logpgp95  cons1  indtime  \\\n",
       "0  0.136667   8.000000         1  5.363636  7.770645      3       20   \n",
       "1  0.377778  60.000004         1  6.386364  9.133459      1      170   \n",
       "2  0.300000  98.000000         1  9.318182  9.897972      7       94   \n",
       "\n",
       "   democ00a  cons00a    extmort4    logem4  country  \n",
       "0         0        1  280.000000  5.634789      125  \n",
       "1         3        3   68.900002  4.232656      131  \n",
       "2        10        7    8.550000  2.145931      135  "
      ]
     },
     "execution_count": 6,
     "metadata": {},
     "output_type": "execute_result"
    }
   ],
   "source": [
    "Data_df.head(3)"
   ]
  },
  {
   "cell_type": "code",
   "execution_count": 7,
   "metadata": {
    "collapsed": false
   },
   "outputs": [
    {
     "name": "stdout",
     "output_type": "stream",
     "text": [
      "\n",
      "    Variable |        Obs        Mean    Std. Dev.       Min        Max\n",
      "-------------+---------------------------------------------------------\n",
      "       index |         70        34.5    20.35109          0         69\n",
      "    lat_abst |         70    .1958971    .1470903          0   .6666667\n",
      "    euro1900 |         69    17.68696    28.52545          0        100\n",
      "    excolony |         69    .9275362    .2611536          0          1\n",
      "      avexpr |         70    6.646104    1.552533        3.5         10\n",
      "-------------+---------------------------------------------------------\n",
      "    logpgp95 |         70    8.141596     1.05931   6.109248   10.21574\n",
      "       cons1 |         60         3.4     2.39491          1          7\n",
      "     indtime |         60    89.63333    64.07728         20        195\n",
      "    democ00a |         59    1.644068     3.00438          0         10\n",
      "     cons00a |         61    2.229508    2.100741          1          7\n",
      "-------------+---------------------------------------------------------\n",
      "    extmort4 |         70    230.7417     454.675       2.55       2940\n",
      "      logem4 |         70    4.542832    1.357206   .9360933   7.986165\n",
      "     country |         70    245.4143    74.04063        125        370\n"
     ]
    }
   ],
   "source": [
    "%%stata -d Data_df\n",
    "summ"
   ]
  },
  {
   "cell_type": "code",
   "execution_count": 18,
   "metadata": {
    "collapsed": false
   },
   "outputs": [
    {
     "name": "stdout",
     "output_type": "stream",
     "text": [
      "\n",
      "             | logpgp95   avexpr   logem4 lat_abst\n",
      "-------------+------------------------------------\n",
      "    logpgp95 |   1.0000 \n",
      "             |\n",
      "             |\n",
      "      avexpr |   0.7560   1.0000 \n",
      "             |   0.0000\n",
      "             |\n",
      "      logem4 |  -0.7025  -0.5520   1.0000 \n",
      "             |   0.0000   0.0000\n",
      "             |\n",
      "    lat_abst |   0.5127   0.5042  -0.5247   1.0000 \n",
      "             |   0.0000   0.0000   0.0000\n",
      "             |\n"
     ]
    }
   ],
   "source": [
    "%%stata -d Data_df\n",
    "pwcorr logpgp95 avexpr logem4 lat_abst, sig"
   ]
  },
  {
   "cell_type": "markdown",
   "metadata": {},
   "source": [
    "Figure 1 shows the plotted values of on the one side settler mortality and on the other 1995 income per capita which to a reduced form from the first stage instrumental variable estimation. There is a clear negative and highly correlated relationship between the instrument and the dependent variable, which is excellent, as long as the causal link is indirect and through the independent variable for which it is used. "
   ]
  },
  {
   "cell_type": "code",
   "execution_count": 7,
   "metadata": {
    "collapsed": false,
    "scrolled": true
   },
   "outputs": [],
   "source": [
    "%%stata --graph -np\n",
    "use data.dta\n",
    "graph twoway (scatter logpgp95 logem4)(lfit logpgp95 logem4), title(\"Figure 1\") l1title(\"log of 1995 GDP/cap\")"
   ]
  },
  {
   "cell_type": "markdown",
   "metadata": {},
   "source": [
    "![](http://i1070.photobucket.com/albums/u495/renee_defroe/Figure-1_zpsepvc7nuc.png)"
   ]
  },
  {
   "cell_type": "markdown",
   "metadata": {},
   "source": [
    "## Estimation"
   ]
  },
  {
   "cell_type": "markdown",
   "metadata": {},
   "source": [
    "We now replicate the main result by estimating the effect of institutional quality on the welfare of a nation using the 2SLS methodology in a reduced estimation model, which only has the most crucial elements. We too find a highly significant positive effect of institutional quality on the income per capita of a nation.   "
   ]
  },
  {
   "cell_type": "code",
   "execution_count": 5,
   "metadata": {
    "collapsed": false,
    "scrolled": false
   },
   "outputs": [
    {
     "name": "stdout",
     "output_type": "stream",
     "text": [
      "\n",
      "First-stage regressions\n",
      "-----------------------\n",
      "\n",
      "      Source |       SS           df       MS      Number of obs   =        70\n",
      "-------------+----------------------------------   F(2, 67)        =     19.53\n",
      "       Model |  61.2431764         2  30.6215882   Prob > F        =    0.0000\n",
      "    Residual |  105.071472        67  1.56823093   R-squared       =    0.3682\n",
      "-------------+----------------------------------   Adj R-squared   =    0.3494\n",
      "       Total |  166.314648        69  2.41035722   Root MSE        =    1.2523\n",
      "\n",
      "------------------------------------------------------------------------------\n",
      "      avexpr |      Coef.   Std. Err.      t    P>|t|     [95% Conf. Interval]\n",
      "-------------+----------------------------------------------------------------\n",
      "    lat_abst |   3.125466   1.203964     2.60   0.012     .7223438    5.528588\n",
      "      logem4 |  -.4537058   .1304823    -3.48   0.001    -.7141496   -.1932619\n",
      "       _cons |   8.094943   .7590112    10.67   0.000      6.57995    9.609936\n",
      "------------------------------------------------------------------------------\n",
      "\n",
      "\n",
      "Instrumental variables (2SLS) regression\n",
      "\n",
      "      Source |       SS           df       MS      Number of obs   =        70\n",
      "-------------+----------------------------------   F(2, 67)        =     18.75\n",
      "       Model |  5.18804532         2  2.59402266   Prob > F        =    0.0000\n",
      "    Residual |  72.2394041        67  1.07820006   R-squared       =    0.0670\n",
      "-------------+----------------------------------   Adj R-squared   =    0.0392\n",
      "       Total |  77.4274494        69  1.12213695   Root MSE        =    1.0384\n",
      "\n",
      "------------------------------------------------------------------------------\n",
      "    logpgp95 |      Coef.   Std. Err.      t    P>|t|     [95% Conf. Interval]\n",
      "-------------+----------------------------------------------------------------\n",
      "      avexpr |   1.029084   .2384636     4.32   0.000     .5531086    1.505059\n",
      "    lat_abst |  -1.784366   1.527363    -1.17   0.247    -4.832995    1.264263\n",
      "       _cons |    1.65175    1.35228     1.22   0.226    -1.047413    4.350913\n",
      "------------------------------------------------------------------------------\n",
      "Instrumented:  avexpr\n",
      "Instruments:   lat_abst logem4\n",
      "------------------------------------------------------------------------------\n"
     ]
    }
   ],
   "source": [
    "%%stata -d Data_df\n",
    "ivreg logpgp95 lat_abst (avexpr=logem4), first"
   ]
  },
  {
   "cell_type": "markdown",
   "metadata": {},
   "source": [
    "## Concluding\n",
    "\n",
    "The IV estimate returns highly significant evidence in favour of a positive causal interpretation of institutional quality on the welfare of a nation, which is in line with expectations given that we employed the same methodology and data with the difference that our approach is more limited. Then again, it was never the point of this assignment to contribute to the current understanding; we do hope however that we have been able to demonstrate an adequate level of proficiency with Ipython notebooks. To us personally it was of value to combine pre-existing stata capabilities with the new possibilities of Jupyter which we hope creates valuable synergies."
   ]
  }
 ],
 "metadata": {
  "kernelspec": {
   "display_name": "Python 2",
   "language": "python",
   "name": "python2"
  },
  "language_info": {
   "codemirror_mode": {
    "name": "ipython",
    "version": 2
   },
   "file_extension": ".py",
   "mimetype": "text/x-python",
   "name": "python",
   "nbconvert_exporter": "python",
   "pygments_lexer": "ipython2",
   "version": "2.7.11"
  }
 },
 "nbformat": 4,
 "nbformat_minor": 0
}
